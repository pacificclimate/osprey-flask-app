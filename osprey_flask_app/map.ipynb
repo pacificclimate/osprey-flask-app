{
 "cells": [
  {
   "cell_type": "code",
   "execution_count": 8,
   "metadata": {
    "scrolled": false
   },
   "outputs": [],
   "source": [
    "import shapely.geometry\n",
    "import requests\n",
    "import netCDF4\n",
    "import tempfile\n",
    "import json\n",
    "import time\n",
    "\n",
    "from ipywidgets import *\n",
    "from ipyleaflet import *"
   ]
  },
  {
   "cell_type": "code",
   "execution_count": 9,
   "metadata": {
    "scrolled": true
   },
   "outputs": [],
   "source": [
    "f = open('../domains.json')\n",
    "data = json.load(f)\n",
    "\n",
    "peace_coords = [\n",
    "    (coord[0], coord[1]) for coord in data['borders']['peace']['coordinates']\n",
    "]\n",
    "fraser_coords = [\n",
    "    (coord[0], coord[1]) for coord in data['borders']['fraser']['coordinates']\n",
    "]\n",
    "columbia_coords = [\n",
    "    (coord[0], coord[1]) for coord in data['borders']['columbia']['coordinates']\n",
    "]"
   ]
  },
  {
   "cell_type": "code",
   "execution_count": 10,
   "metadata": {
    "scrolled": true
   },
   "outputs": [],
   "source": [
    "def handle_click(**kwargs):\n",
    "    if kwargs.get('type') == 'click':\n",
    "        lat = round(kwargs.get('coordinates')[0], 5)\n",
    "        lon = round(kwargs.get('coordinates')[1], 5)\n",
    "\n",
    "        polygon = in_polygon(lat, lon)\n",
    "        \n",
    "        if polygon and point_list.options:\n",
    "            if (in_polygon(float(point_list.options[0].split(', ')[0]), float(point_list.options[0].split(', ')[1]))) == polygon:\n",
    "                    \n",
    "                clear_marker()\n",
    "\n",
    "                latitude.value = f'{lat}'\n",
    "                longitude.value = f'{lon}'\n",
    "\n",
    "                m.add_layer(Marker(location=kwargs.get('coordinates'), name='Marker', draggable=False))\n",
    "                \n",
    "        elif polygon and not point_list.options:\n",
    "                \n",
    "            clear_marker()\n",
    "\n",
    "            latitude.value = f'{lat}'\n",
    "            longitude.value = f'{lon}'\n",
    "\n",
    "            m.add_layer(Marker(location=kwargs.get('coordinates'), name='Marker', draggable=False))\n",
    "\n",
    "\n",
    "def handle_run(arg):\n",
    "    if not point_list.options:\n",
    "        print('Please add at least one point before continuing')\n",
    "        \n",
    "    elif not start_date.value and not end_date.value:\n",
    "        print('Please enter a start and end date before continuing')\n",
    "      \n",
    "    else:\n",
    "        print('Continuing...')\n",
    "\n",
    "        \n",
    "def handle_add(arg):\n",
    "    if f'{latitude.value}, {longitude.value}' not in points:\n",
    "        points.append(f'{latitude.value}, {longitude.value}')\n",
    "        point_list.options = points\n",
    "    \n",
    "    new_icon = AwesomeIcon(name=\"map-pin\", marker_color='orange')\n",
    "    new_marker = Marker(location = (latitude.value, longitude.value), icon=new_icon, draggable=False)\n",
    "    \n",
    "    if new_marker not in marker_group.layers:\n",
    "        clear_marker()\n",
    "        marker_group.add_layer(new_marker)\n",
    "    \n",
    "    \n",
    "def handle_remove(arg):\n",
    "    if point_list.value:\n",
    "        for point in point_list.value:\n",
    "            points.remove(point)\n",
    "            \n",
    "        for marker in marker_group.layers:\n",
    "            if ', '.join(marker.location) in point_list.value:\n",
    "                marker_group.remove_layer(marker)\n",
    "            \n",
    "    point_list.options = points"
   ]
  },
  {
   "cell_type": "code",
   "execution_count": 11,
   "metadata": {
    "scrolled": true
   },
   "outputs": [],
   "source": [
    "def clear_marker():\n",
    "    for i in range(1, len(m.layers)):\n",
    "        if m.layers[i].name == 'Marker':\n",
    "            m.remove_layer(m.layers[i])\n",
    "\n",
    "\n",
    "def in_polygon(lat, lon):\n",
    "\n",
    "    point = shapely.geometry.Point(lat, lon)\n",
    "\n",
    "    peace_polygon = shapely.geometry.polygon.Polygon(p.locations)\n",
    "    fraser_polygon = shapely.geometry.polygon.Polygon(f.locations)\n",
    "    columbia_polygon = shapely.geometry.polygon.Polygon(c.locations)\n",
    "\n",
    "    if (peace_polygon.contains(point)):\n",
    "        return ('Peace')\n",
    "    \n",
    "    elif (fraser_polygon.contains(point)):\n",
    "        return ('Fraser')\n",
    "        \n",
    "    elif (columbia_polygon.contains(point)):\n",
    "        return ('Columbia')\n",
    "\n",
    "    else:\n",
    "        return None\n",
    "\n",
    "\n",
    "def date_widget(descr):\n",
    "    return DatePicker(description=descr, disabled=False)\n",
    "\n",
    "\n",
    "def build_url(start, end, points):\n",
    "   \n",
    "    start_val = '&run_startdate=' + str(start) + '-00'\n",
    "    end_val = '&stop_date=' + str(end)\n",
    "    \n",
    "    lon_val = '&lons=' + ','.join([point.split(', ')[1] for point in points])\n",
    "    lat_val = '&lats=' + ','.join([point.split(', ')[0] for point in points])\n",
    "\n",
    "    url = 'case_id=sample' + start_val + end_val + lon_val + lat_val\n",
    "\n",
    "    return url"
   ]
  },
  {
   "cell_type": "code",
   "execution_count": 12,
   "metadata": {
    "scrolled": true
   },
   "outputs": [],
   "source": [
    "mapnik = basemap_to_tiles(basemaps.OpenStreetMap.Mapnik)\n",
    "mapnik.base = True\n",
    "mapnik.name = 'Default'\n",
    "\n",
    "satellite = basemap_to_tiles(basemaps.Gaode.Satellite)\n",
    "satellite.base = True\n",
    "satellite.name = 'Satellite'\n",
    "\n",
    "m = Map(\n",
    "    basemap=mapnik,\n",
    "    center=(50.5, -120),\n",
    "    zoom=5,\n",
    "    layout=Layout(height='700px'),\n",
    "    layers=[satellite, mapnik],\n",
    ")\n",
    "\n",
    "p = Polygon(\n",
    "    locations=peace_coords,\n",
    "    color='blue',\n",
    "    name='Peace',\n",
    ")\n",
    "f = Polygon(\n",
    "    locations=fraser_coords,\n",
    "    color='red',\n",
    "    name='Fraser',\n",
    ")\n",
    "c = Polygon(\n",
    "    locations=columbia_coords,\n",
    "    color='green',\n",
    "    name='Columbia',\n",
    ")\n",
    "\n",
    "legend = LegendControl(\n",
    "    {'Peace': 'blue', 'Fraser': 'red', 'Columbia': 'green'},\n",
    "    name='Watersheds',\n",
    "    position='topright',\n",
    ")\n",
    "\n",
    "latitude = Text(\n",
    "    placeholder='Enter the Latitude', description='Latitude:', disabled=False\n",
    ")\n",
    "\n",
    "longitude = Text(\n",
    "    placeholder='Enter the Longitude', description='Longitude:', disabled=False\n",
    ")\n",
    "\n",
    "layer_control = LayersControl()\n",
    "marker_group = LayerGroup()\n",
    "\n",
    "point_list = SelectMultiple(options=[], value=[], description='Points:', disabled=False)\n",
    "points = []\n",
    "\n",
    "run = Button(\n",
    "    description='Run',\n",
    "    button_style='success',\n",
    "    disabled=False,\n",
    "    tooltip=\"Click 'Run' to start the Osprey Flask App.\",\n",
    ")\n",
    "run.on_click(handle_run)\n",
    "\n",
    "add_point = Button(\n",
    "    description='Add Point',\n",
    "    button_style='primary',\n",
    "    disabled=False,\n",
    "    tooltip='Click to add this point to the list.',\n",
    ")\n",
    "add_point.on_click(handle_add)\n",
    "\n",
    "remove_point = Button(\n",
    "    description='Remove Point(s)',\n",
    "    button_style='danger',\n",
    "    disabled=False,\n",
    "    tooltip='Click to remove selected point(s) from the list.',\n",
    ")\n",
    "remove_point.on_click(handle_remove)\n",
    "\n",
    "start_date = date_widget('Start Date:')\n",
    "end_date = date_widget('End Date:')"
   ]
  },
  {
   "cell_type": "code",
   "execution_count": 13,
   "metadata": {
    "scrolled": false
   },
   "outputs": [
    {
     "data": {
      "application/vnd.jupyter.widget-view+json": {
       "model_id": "b62c06dbd38e437f9f4585bdc04dc8b3",
       "version_major": 2,
       "version_minor": 0
      },
      "text/plain": [
       "AppLayout(children=(Box(children=(DatePicker(value=None, description='Start Date:'), DatePicker(value=None, de…"
      ]
     },
     "metadata": {},
     "output_type": "display_data"
    }
   ],
   "source": [
    "m.add_layer(p)\n",
    "m.add_layer(f)\n",
    "m.add_layer(c)\n",
    "m.add_layer(marker_group)\n",
    "\n",
    "m += layer_control\n",
    "\n",
    "m.on_interaction(handle_click)\n",
    "m.add_control(legend)\n",
    "\n",
    "box_layout = Layout(display='flex',\n",
    "                flex_flow = 'column', \n",
    "                width='110%',\n",
    "                align_items = 'center')\n",
    "\n",
    "control_box = Box(children = [start_date, end_date, latitude, longitude, add_point, point_list, remove_point, run], layout=box_layout)\n",
    "\n",
    "AppLayout(center = m, \n",
    "    right_sidebar = control_box,\n",
    "    align_items = 'center')"
   ]
  },
  {
   "cell_type": "code",
   "execution_count": 14,
   "metadata": {},
   "outputs": [
    {
     "name": "stdout",
     "output_type": "stream",
     "text": [
      "RVIC Process started. Check status: /osprey/status/05014d37-604b-41a6-834e-72660f6f5391\n"
     ]
    }
   ],
   "source": [
    "#Starts RVIC process\n",
    "url = build_url(start_date.value, end_date.value, points)\n",
    "input_response = requests.get(f'http://docker-dev03.pcic.uvic.ca:30111/osprey/input?{url}').content\n",
    "print(input_response.decode('utf-8'))\n",
    "status_url = input_response.split()[-1].decode('utf-8')"
   ]
  },
  {
   "cell_type": "code",
   "execution_count": 15,
   "metadata": {},
   "outputs": [
    {
     "name": "stdout",
     "output_type": "stream",
     "text": [
      "Process is still running.\n",
      "Process is still running.\n",
      "Process completed. Get output: /osprey/output/05014d37-604b-41a6-834e-72660f6f5391\n"
     ]
    }
   ],
   "source": [
    "#Check status of RVIC process\n",
    "status_response = requests.get(f'http://docker-dev03.pcic.uvic.ca:30111{status_url}').content\n",
    "print(status_response.decode('utf-8'))\n",
    "\n",
    "while 'Process is still running.' in status_response.decode('utf-8'):\n",
    "    time.sleep(5)\n",
    "    status_response = requests.get(f'http://docker-dev03.pcic.uvic.ca:30111{status_url}').content\n",
    "    print(status_response.decode('utf-8'))\n",
    "    \n",
    "output_url = status_response.split()[-1].decode('utf-8')"
   ]
  },
  {
   "cell_type": "code",
   "execution_count": null,
   "metadata": {},
   "outputs": [],
   "source": [
    "output = requests.get(f'http://docker-dev03.pcic.uvic.ca:30111{output_url}').content"
   ]
  },
  {
   "cell_type": "code",
   "execution_count": null,
   "metadata": {},
   "outputs": [],
   "source": [
    "#Saves data as NetCDF data set\n",
    "with tempfile.NamedTemporaryFile(dir=os.getenv('TMPDIR', default='/tmp/')) as fp:\n",
    "    fp.write(output)\n",
    "    data = netCDF4.Dataset(fp.name) "
   ]
  },
  {
   "cell_type": "code",
   "execution_count": null,
   "metadata": {},
   "outputs": [],
   "source": [
    "#To download file run this cell\n",
    "watershed = in_polygon(float(points[0].split(',')[0]), float(points[0].split(',')[1]))\n",
    "file_name = watershed.lower() + '.rvic.h0a.' + str(end_date.value) + '.nc'\n",
    "home = os.path.expanduser('~')\n",
    "\n",
    "print('The file has been downloaded here', os.path.join(home, 'Downloads', file_name))\n",
    "\n",
    "with open(os.path.join(home, 'Downloads', file_name), 'wb') as file:\n",
    "    file.write(output) "
   ]
  },
  {
   "cell_type": "code",
   "execution_count": null,
   "metadata": {},
   "outputs": [],
   "source": []
  }
 ],
 "metadata": {
  "interpreter": {
   "hash": "916dbcbb3f70747c44a77c7bcd40155683ae19c65e1c03b4aa3499c5328201f1"
  },
  "kernelspec": {
   "display_name": "Python 3 (ipykernel)",
   "language": "python",
   "name": "python3"
  },
  "language_info": {
   "codemirror_mode": {
    "name": "ipython",
    "version": 3
   },
   "file_extension": ".py",
   "mimetype": "text/x-python",
   "name": "python",
   "nbconvert_exporter": "python",
   "pygments_lexer": "ipython3",
   "version": "3.8.10"
  }
 },
 "nbformat": 4,
 "nbformat_minor": 4
}
