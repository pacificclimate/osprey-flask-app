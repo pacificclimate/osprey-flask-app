{
 "cells": [
  {
   "cell_type": "code",
   "execution_count": 197,
   "metadata": {},
   "outputs": [],
   "source": [
    "from IPython.display import display\n",
    "from ipywidgets import Label, Layout\n",
    "from ipyleaflet import *"
   ]
  },
  {
   "cell_type": "code",
   "execution_count": 198,
   "metadata": {},
   "outputs": [],
   "source": [
    "def handle_click(**kwargs):\n",
    "    if kwargs.get(\"type\") == \"click\":\n",
    "        clear_previous_marker(m)\n",
    "\n",
    "        lat = round(kwargs.get(\"coordinates\")[0], 5)\n",
    "        lon = round(kwargs.get(\"coordinates\")[1], 5)\n",
    "\n",
    "        # build_url(lat, lon)\n",
    "\n",
    "        l.value = f\"[{lat}, {lon}]\"\n",
    "        m.add_layer(Marker(location=kwargs.get(\"coordinates\"), name=\"Marker\"))"
   ]
  },
  {
   "cell_type": "code",
   "execution_count": 199,
   "metadata": {},
   "outputs": [],
   "source": [
    "def clear_previous_marker(map):\n",
    "    for i in range(1, len(map.layers)):\n",
    "        if map.layers[i].name == \"Marker\":\n",
    "            m.remove_layer(map.layers[i])\n",
    "\n",
    "\n",
    "def build_url(lat, lon):\n",
    "    print(lat, lon)"
   ]
  },
  {
   "cell_type": "code",
   "execution_count": 200,
   "metadata": {},
   "outputs": [],
   "source": [
    "m = Map(\n",
    "    basemap=basemap_to_tiles(basemaps.OpenStreetMap.Mapnik),\n",
    "    center=(52, -120),\n",
    "    zoom=5,\n",
    "    layout=Layout(width=\"50%\", height=\"800px\", crs=\"EPSG3857\"),\n",
    ")\n",
    "\n",
    "l = Label()\n",
    "\n",
    "m += Rectangle(\n",
    "    bounds=((58.1562, -127.8437), (53.0312, -115.9062)), color=\"blue\", name=\"Peace\"\n",
    ")\n",
    "m += Rectangle(\n",
    "    bounds=((56.4687, -128.4687), (48.5312, -117.5312)), color=\"red\", name=\"Fraser\"\n",
    ")\n",
    "m += Rectangle(\n",
    "    bounds=((53.1562, -124.9687), (41.0312, -109.7187)), color=\"green\", name=\"Columbia\"\n",
    ")\n",
    "m += LayersControl()\n",
    "\n",
    "legend = LegendControl(\n",
    "    {\"Peace\": \"blue\", \"Fraser\": \"red\", \"Columbia\": \"green\"},\n",
    "    name=\"Watersheds\",\n",
    "    position=\"topright\",\n",
    ")"
   ]
  },
  {
   "cell_type": "code",
   "execution_count": 201,
   "metadata": {},
   "outputs": [
    {
     "data": {
      "application/vnd.jupyter.widget-view+json": {
       "model_id": "264022f4b6b347ff9ba577c201052e2e",
       "version_major": 2,
       "version_minor": 0
      },
      "text/plain": [
       "Label(value='')"
      ]
     },
     "metadata": {},
     "output_type": "display_data"
    },
    {
     "data": {
      "application/vnd.jupyter.widget-view+json": {
       "model_id": "fc24c35ba8714565ae5f88f92fbf195b",
       "version_major": 2,
       "version_minor": 0
      },
      "text/plain": [
       "Map(center=[52, -120], controls=(ZoomControl(options=['position', 'zoom_in_text', 'zoom_in_title', 'zoom_out_t…"
      ]
     },
     "metadata": {},
     "output_type": "display_data"
    }
   ],
   "source": [
    "m.on_interaction(handle_click)\n",
    "m.add_control(legend)\n",
    "\n",
    "\n",
    "display(l, m)"
   ]
  }
 ],
 "metadata": {
  "interpreter": {
   "hash": "916dbcbb3f70747c44a77c7bcd40155683ae19c65e1c03b4aa3499c5328201f1"
  },
  "kernelspec": {
   "display_name": "Python 3 (ipykernel)",
   "language": "python",
   "name": "python3"
  },
  "language_info": {
   "codemirror_mode": {
    "name": "ipython",
    "version": 3
   },
   "file_extension": ".py",
   "mimetype": "text/x-python",
   "name": "python",
   "nbconvert_exporter": "python",
   "pygments_lexer": "ipython3",
   "version": "3.8.10"
  }
 },
 "nbformat": 4,
 "nbformat_minor": 2
}
