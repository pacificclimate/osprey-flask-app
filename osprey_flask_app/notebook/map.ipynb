{
 "cells": [
  {
   "cell_type": "code",
   "execution_count": 1,
   "metadata": {},
   "outputs": [],
   "source": [
    "import ipyleaflet\n",
    "\n",
    "from ipywidgets import Label\n",
    "from ipyleaflet import Map, basemaps, basemap_to_tiles, Marker"
   ]
  },
  {
   "cell_type": "code",
   "execution_count": 2,
   "metadata": {},
   "outputs": [],
   "source": [
    "def handle_click(**kwargs):\n",
    "    if kwargs.get(\"type\") == \"click\":\n",
    "        clear_all_layers(m)\n",
    "\n",
    "        lat = round(kwargs.get(\"coordinates\")[0],5)\n",
    "        lon = round(kwargs.get(\"coordinates\")[1],5)\n",
    "        build_url(lat, lon)\n",
    "        l.value = '['+str(lat)+\", \"+str(lon)+']'\n",
    "        m.add_layer(Marker(location=kwargs.get(\"coordinates\")))"
   ]
  },
  {
   "cell_type": "code",
   "execution_count": 3,
   "metadata": {},
   "outputs": [],
   "source": [
    "def build_url(lat, lon):\n",
    "    print(lat,lon)\n",
    "    "
   ]
  },
  {
   "cell_type": "code",
   "execution_count": 4,
   "metadata": {},
   "outputs": [],
   "source": [
    "def clear_all_layers(map):\n",
    "    for i in range(1, len(map.layers)):\n",
    "        m.remove_layer(map.layers[1])"
   ]
  },
  {
   "cell_type": "code",
   "execution_count": 5,
   "metadata": {},
   "outputs": [
    {
     "data": {
      "application/vnd.jupyter.widget-view+json": {
       "model_id": "e5320bec0f5c46b28fb44076c2808c3f",
       "version_major": 2,
       "version_minor": 0
      },
      "text/plain": [
       "Label(value='')"
      ]
     },
     "metadata": {},
     "output_type": "display_data"
    },
    {
     "data": {
      "application/vnd.jupyter.widget-view+json": {
       "model_id": "e780b192b2724d05a29ab9a166988f15",
       "version_major": 2,
       "version_minor": 0
      },
      "text/plain": [
       "Map(center=[54, 260], controls=(ZoomControl(options=['position', 'zoom_in_text', 'zoom_in_title', 'zoom_out_te…"
      ]
     },
     "metadata": {},
     "output_type": "display_data"
    }
   ],
   "source": [
    "m = Map(\n",
    "    basemap=basemap_to_tiles(basemaps.OpenStreetMap.Mapnik), center=(54, 260), zoom=4\n",
    ")\n",
    "\n",
    "l = Label()\n",
    "\n",
    "m.on_interaction(handle_click)\n",
    "\n",
    "display(l,m)\n"
   ]
  }
 ],
 "metadata": {
  "interpreter": {
   "hash": "916dbcbb3f70747c44a77c7bcd40155683ae19c65e1c03b4aa3499c5328201f1"
  },
  "kernelspec": {
   "display_name": "Python 3 (ipykernel)",
   "language": "python",
   "name": "python3"
  },
  "language_info": {
   "codemirror_mode": {
    "name": "ipython",
    "version": 3
   },
   "file_extension": ".py",
   "mimetype": "text/x-python",
   "name": "python",
   "nbconvert_exporter": "python",
   "pygments_lexer": "ipython3",
   "version": "3.8.10"
  }
 },
 "nbformat": 4,
 "nbformat_minor": 2
}
