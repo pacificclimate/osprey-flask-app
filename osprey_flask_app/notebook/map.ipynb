{
 "cells": [
  {
   "cell_type": "code",
   "execution_count": 6,
   "metadata": {},
   "outputs": [],
   "source": [
    "import shapely\n",
    "\n",
    "from IPython.display import display\n",
    "from ipywidgets import Label, Layout, DatePicker\n",
    "from ipyleaflet import *"
   ]
  },
  {
   "cell_type": "code",
   "execution_count": 7,
   "metadata": {},
   "outputs": [],
   "source": [
    "def handle_click(**kwargs):\n",
    "    if kwargs.get(\"type\") == \"click\":\n",
    "\n",
    "        lat = round(kwargs.get(\"coordinates\")[0], 5)\n",
    "        lon = round(kwargs.get(\"coordinates\")[1], 5)\n",
    "\n",
    "        if in_polygon(lat, lon):\n",
    "            clear_previous_marker()\n",
    "            l.value = f\"[{lat}, {lon}]\"\n",
    "            m.add_layer(Marker(location=kwargs.get(\"coordinates\"), name=\"Marker\"))\n",
    "\n",
    "        # build_url(lat, lon)\n",
    "\n",
    "        return"
   ]
  },
  {
   "cell_type": "code",
   "execution_count": 8,
   "metadata": {},
   "outputs": [],
   "source": [
    "def clear_previous_marker():\n",
    "    for i in range(1, len(m.layers)):\n",
    "        if m.layers[i].name == \"Marker\":\n",
    "            m.remove_layer(m.layers[i])\n",
    "\n",
    "\n",
    "def in_polygon(lat, lon):\n",
    "\n",
    "    point = shapely.geometry.Point(lat, lon)\n",
    "\n",
    "    peace_polygon = shapely.geometry.polygon.Polygon(p.locations)\n",
    "    fraser_polygon = shapely.geometry.polygon.Polygon(f.locations)\n",
    "    columbia_polygon = shapely.geometry.polygon.Polygon(c.locations)\n",
    "\n",
    "    if (\n",
    "        peace_polygon.contains(point)\n",
    "        or fraser_polygon.contains(point)\n",
    "        or columbia_polygon.contains(point)\n",
    "    ):\n",
    "        return True\n",
    "\n",
    "    return False\n",
    "\n",
    "\n",
    "def build_url(lat, lon):\n",
    "    print(lat, lon)\n",
    "    \n",
    "def date_widget(descr):\n",
    "    return(\n",
    "        DatePicker(\n",
    "            descriptio=descr,\n",
    "            disabled=False)\n",
    "    )"
   ]
  },
  {
   "cell_type": "code",
   "execution_count": 9,
   "metadata": {},
   "outputs": [],
   "source": [
    "mapnik = basemap_to_tiles(basemaps.OpenStreetMap.Mapnik)\n",
    "mapnik.base = True\n",
    "mapnik.name = \"Default\"\n",
    "\n",
    "satellite = basemap_to_tiles(basemaps.Gaode.Satellite)\n",
    "satellite.base = True\n",
    "satellite.name = \"Satellite\"\n",
    "\n",
    "m = Map(\n",
    "    basemap=mapnik,\n",
    "    center=(52, -120),\n",
    "    zoom=5,\n",
    "    layout=Layout(width=\"50%\", height=\"800px\", crs=\"EPSG3857\"),\n",
    "    layers=[satellite, mapnik],\n",
    ")\n",
    "\n",
    "l = Label()\n",
    "\n",
    "p = Polygon(\n",
    "    locations=[\n",
    "        (53.0312, -127.8437),\n",
    "        (58.1562, -127.8437),\n",
    "        (58.1562, -115.9062),\n",
    "        (53.0312, -115.9062),\n",
    "    ],\n",
    "    color=\"blue\",\n",
    "    name=\"Peace\",\n",
    ")\n",
    "f = Polygon(\n",
    "    locations=[\n",
    "        (48.5312, -128.4687),\n",
    "        (56.4687, -128.4687),\n",
    "        (56.4687, -117.5312),\n",
    "        (48.5312, -117.5312),\n",
    "    ],\n",
    "    color=\"red\",\n",
    "    name=\"Fraser\",\n",
    ")\n",
    "c = Polygon(\n",
    "    locations=[\n",
    "        (41.0312, -124.9687),\n",
    "        (53.1562, -124.9687),\n",
    "        (53.1562, -109.7187),\n",
    "        (41.0312, -109.7187),\n",
    "    ],\n",
    "    color=\"green\",\n",
    "    name=\"Columbia\",\n",
    ")\n",
    "\n",
    "m.add_layer(p)\n",
    "m.add_layer(f)\n",
    "m.add_layer(c)\n",
    "\n",
    "layer_control = LayersControl()\n",
    "m += layer_control\n",
    "\n",
    "legend = LegendControl(\n",
    "    {\"Peace\": \"blue\", \"Fraser\": \"red\", \"Columbia\": \"green\"},\n",
    "    name=\"Watersheds\",\n",
    "    position=\"topright\",\n",
    ")\n",
    "\n",
    "start_date = date_widget('Start Date')\n",
    "end_date = date_widget('End Date')"
   ]
  },
  {
   "cell_type": "code",
   "execution_count": 5,
   "metadata": {},
   "outputs": [
    {
     "data": {
      "application/vnd.jupyter.widget-view+json": {
       "model_id": "b2c490dff1fe415bb8418ec758b6273f",
       "version_major": 2,
       "version_minor": 0
      },
      "text/plain": [
       "Label(value='')"
      ]
     },
     "metadata": {},
     "output_type": "display_data"
    },
    {
     "data": {
      "application/vnd.jupyter.widget-view+json": {
       "model_id": "6b067ac978e941cba920336257b0b8c8",
       "version_major": 2,
       "version_minor": 0
      },
      "text/plain": [
       "Map(center=[52, -120], controls=(ZoomControl(options=['position', 'zoom_in_text', 'zoom_in_title', 'zoom_out_t…"
      ]
     },
     "metadata": {},
     "output_type": "display_data"
    }
   ],
   "source": [
    "m.on_interaction(handle_click)\n",
    "m.add_control(legend)\n",
    "\n",
    "display(start_date, end_date)\n",
    "\n",
    "display(l, m)"
   ]
  },
  {
   "cell_type": "code",
   "execution_count": null,
   "metadata": {},
   "outputs": [],
   "source": []
  }
 ],
 "metadata": {
  "interpreter": {
   "hash": "916dbcbb3f70747c44a77c7bcd40155683ae19c65e1c03b4aa3499c5328201f1"
  },
  "kernelspec": {
   "display_name": "Python 3 (ipykernel)",
   "language": "python",
   "name": "python3"
  },
  "language_info": {
   "codemirror_mode": {
    "name": "ipython",
    "version": 3
   },
   "file_extension": ".py",
   "mimetype": "text/x-python",
   "name": "python",
   "nbconvert_exporter": "python",
   "pygments_lexer": "ipython3",
   "version": "3.8.10"
  }
 },
 "nbformat": 4,
 "nbformat_minor": 2
}
