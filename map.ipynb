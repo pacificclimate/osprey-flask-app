{
 "cells": [
  {
   "cell_type": "code",
   "execution_count": 7,
   "metadata": {},
   "outputs": [],
   "source": [
    "import shapely.geometry\n",
    "import pytest, time, requests\n",
    "\n",
    "from IPython.display import display\n",
    "from ipywidgets import Layout, Button, Text, DatePicker\n",
    "from ipyleaflet import *\n",
    "from osprey_flask_app import create_app\n"
   ]
  },
  {
   "cell_type": "code",
   "execution_count": 8,
   "metadata": {},
   "outputs": [],
   "source": [
    "def handle_click(**kwargs):\n",
    "    if kwargs.get(\"type\") == \"click\":\n",
    "        lat = round(kwargs.get(\"coordinates\")[0], 5)\n",
    "        lon = round(kwargs.get(\"coordinates\")[1], 5)\n",
    "\n",
    "        if in_polygon(lat, lon):\n",
    "            clear_previous_marker()\n",
    "\n",
    "            latitude.value = f\"{lat}\"\n",
    "            longitude.value = f\"{lon}\"\n",
    "\n",
    "            m.add_layer(Marker(location=kwargs.get(\"coordinates\"), name=\"Marker\"))\n",
    "\n",
    "\n",
    "def handle_button(arg):\n",
    "    print(\"The button has been clicked\")"
   ]
  },
  {
   "cell_type": "code",
   "execution_count": 9,
   "metadata": {},
   "outputs": [],
   "source": [
    "def clear_previous_marker():\n",
    "    for i in range(1, len(m.layers)):\n",
    "        if m.layers[i].name == \"Marker\":\n",
    "            m.remove_layer(m.layers[i])\n",
    "\n",
    "\n",
    "def in_polygon(lat, lon):\n",
    "\n",
    "    point = shapely.geometry.Point(lat, lon)\n",
    "\n",
    "    peace_polygon = shapely.geometry.polygon.Polygon(p.locations)\n",
    "    fraser_polygon = shapely.geometry.polygon.Polygon(f.locations)\n",
    "    columbia_polygon = shapely.geometry.polygon.Polygon(c.locations)\n",
    "\n",
    "    if (\n",
    "        peace_polygon.contains(point)\n",
    "        or fraser_polygon.contains(point)\n",
    "        or columbia_polygon.contains(point)\n",
    "    ):\n",
    "        return True\n",
    "\n",
    "    return False\n",
    "\n",
    "def date_widget(descr):\n",
    "    return DatePicker(descriptio=descr, disabled=False)"
   ]
  },
  {
   "cell_type": "code",
   "execution_count": 10,
   "metadata": {},
   "outputs": [],
   "source": [
    "mapnik = basemap_to_tiles(basemaps.OpenStreetMap.Mapnik)\n",
    "mapnik.base = True\n",
    "mapnik.name = \"Default\"\n",
    "\n",
    "satellite = basemap_to_tiles(basemaps.Gaode.Satellite)\n",
    "satellite.base = True\n",
    "satellite.name = \"Satellite\"\n",
    "\n",
    "m = Map(\n",
    "    basemap=mapnik,\n",
    "    center=(52, -120),\n",
    "    zoom=5,\n",
    "    layout=Layout(width=\"50%\", height=\"800px\", crs=\"EPSG3857\"),\n",
    "    layers=[satellite, mapnik],\n",
    ")\n",
    "\n",
    "p = Polygon(\n",
    "    locations=[\n",
    "        (53.0312, -127.8437),\n",
    "        (58.1562, -127.8437),\n",
    "        (58.1562, -115.9062),\n",
    "        (53.0312, -115.9062),\n",
    "    ],\n",
    "    color=\"blue\",\n",
    "    name=\"Peace\",\n",
    ")\n",
    "f = Polygon(\n",
    "    locations=[\n",
    "        (48.5312, -128.4687),\n",
    "        (56.4687, -128.4687),\n",
    "        (56.4687, -117.5312),\n",
    "        (48.5312, -117.5312),\n",
    "    ],\n",
    "    color=\"red\",\n",
    "    name=\"Fraser\",\n",
    ")\n",
    "c = Polygon(\n",
    "    locations=[\n",
    "        (41.0312, -124.9687),\n",
    "        (53.1562, -124.9687),\n",
    "        (53.1562, -109.7187),\n",
    "        (41.0312, -109.7187),\n",
    "    ],\n",
    "    color=\"green\",\n",
    "    name=\"Columbia\",\n",
    ")\n",
    "\n",
    "legend = LegendControl(\n",
    "    {\"Peace\": \"blue\", \"Fraser\": \"red\", \"Columbia\": \"green\"},\n",
    "    name=\"Watersheds\",\n",
    "    position=\"topright\",\n",
    ")\n",
    "\n",
    "latitude = Text(\n",
    "    placeholder=\"Enter the Latitude\", description=\"Latitude:\", disabled=False\n",
    ")\n",
    "\n",
    "longitude = Text(\n",
    "    placeholder=\"Enter the Longitude\", description=\"Longitude:\", disabled=False\n",
    ")\n",
    "\n",
    "layer_control = LayersControl()\n",
    "\n",
    "button = Button(\n",
    "    description=\"Run\",\n",
    "    button_style=\"success\",\n",
    "    disabled=False,\n",
    "    tooltip=\"Click 'Run' to start the Osprey Flask App.\",\n",
    ")\n",
    "button.on_click(handle_button)\n",
    "\n",
    "start_date = date_widget(\"Start Date\")\n",
    "end_date = date_widget(\"End Date\")"
   ]
  },
  {
   "cell_type": "code",
   "execution_count": 11,
   "metadata": {},
   "outputs": [
    {
     "data": {
      "application/vnd.jupyter.widget-view+json": {
       "model_id": "2fe38c43bd224957a0491f0b776f0db1",
       "version_major": 2,
       "version_minor": 0
      },
      "text/plain": [
       "Map(center=[52, -120], controls=(ZoomControl(options=['position', 'zoom_in_text', 'zoom_in_title', 'zoom_out_t…"
      ]
     },
     "metadata": {},
     "output_type": "display_data"
    },
    {
     "data": {
      "application/vnd.jupyter.widget-view+json": {
       "model_id": "bd4f795efb044effb9250d1695a51e34",
       "version_major": 2,
       "version_minor": 0
      },
      "text/plain": [
       "DatePicker(value=None)"
      ]
     },
     "metadata": {},
     "output_type": "display_data"
    },
    {
     "data": {
      "application/vnd.jupyter.widget-view+json": {
       "model_id": "becd81f735ae4cb7b7c0d7f72af7c2b4",
       "version_major": 2,
       "version_minor": 0
      },
      "text/plain": [
       "DatePicker(value=None)"
      ]
     },
     "metadata": {},
     "output_type": "display_data"
    },
    {
     "data": {
      "application/vnd.jupyter.widget-view+json": {
       "model_id": "a8c7541271054ac0a2946d02b58e0286",
       "version_major": 2,
       "version_minor": 0
      },
      "text/plain": [
       "Text(value='', description='Latitude:', placeholder='Enter the Latitude')"
      ]
     },
     "metadata": {},
     "output_type": "display_data"
    },
    {
     "data": {
      "application/vnd.jupyter.widget-view+json": {
       "model_id": "c1786851ee9b420ba52372113b186c70",
       "version_major": 2,
       "version_minor": 0
      },
      "text/plain": [
       "Text(value='', description='Longitude:', placeholder='Enter the Longitude')"
      ]
     },
     "metadata": {},
     "output_type": "display_data"
    },
    {
     "data": {
      "application/vnd.jupyter.widget-view+json": {
       "model_id": "d2271cce4fcf4fc69b40b7e2019fa9ee",
       "version_major": 2,
       "version_minor": 0
      },
      "text/plain": [
       "Button(button_style='success', description='Run', style=ButtonStyle(), tooltip=\"Click 'Run' to start the Ospre…"
      ]
     },
     "metadata": {},
     "output_type": "display_data"
    },
    {
     "name": "stdout",
     "output_type": "stream",
     "text": [
      "The button has been clicked\n"
     ]
    }
   ],
   "source": [
    "m.add_layer(p)\n",
    "m.add_layer(f)\n",
    "m.add_layer(c)\n",
    "\n",
    "m += layer_control\n",
    "\n",
    "m.on_interaction(handle_click)\n",
    "m.add_control(legend)\n",
    "\n",
    "display(m)\n",
    "display(start_date, end_date)\n",
    "display(latitude, longitude)\n",
    "display(button)"
   ]
  },
  {
   "cell_type": "code",
   "execution_count": 12,
   "metadata": {},
   "outputs": [],
   "source": [
    "def client():\n",
    "    flask_app = create_app()\n",
    "\n",
    "    # Create a test client using the Flask application configured for testing\n",
    "    with flask_app.test_client() as testing_client:\n",
    "        # Establish an application context\n",
    "        with flask_app.app_context():\n",
    "            yield testing_client\n",
    "            \n",
    "def full_rvic_test(url, client, valid_input=True):\n",
    "    #input_params = urlencode(url)\n",
    "    input_url = f\"/osprey/input?{url}\"\n",
    "    \n",
    "    print(input_url)\n",
    "\n",
    "    input_response = client.get(url)\n",
    "    if valid_input:\n",
    "        assert input_response.status_code == 202\n",
    "    else:\n",
    "        assert input_response.status_code == 400\n",
    "        return\n",
    "\n",
    "    status_url = input_response.data.split()[-1].decode(\"utf-8\")\n",
    "    status_response = client.get(status_url)\n",
    "\n",
    "    timeout = 1800  # Time to timeout in seconds\n",
    "    for i in range(timeout):\n",
    "        if status_response.data != b\"Process is still running.\":  # Process is completed\n",
    "            break\n",
    "        time.sleep(1)\n",
    "        status_response = client.get(status_url)\n",
    "    assert b\"Process completed.\" in status_response.data\n",
    "\n",
    "    output_url = status_response.data.split()[-1].decode(\"utf-8\")\n",
    "    output_response = client.get(output_url)\n",
    "    streamflow_path = output_response.headers.get(\"Location\")\n",
    "    assert requests.get(streamflow_path).status_code == 200"
   ]
  },
  {
   "cell_type": "code",
   "execution_count": 7,
   "metadata": {},
   "outputs": [
    {
     "name": "stdout",
     "output_type": "stream",
     "text": [
      "case_id=sample&run_startdate=2022-07-05&stop_date=2022-07-07&lons=-122.12666&lats=51.67619\n",
      "/osprey/input?case_id=sample&run_startdate=2022-07-05&stop_date=2022-07-07&lons=-122.12666&lats=51.67619\n"
     ]
    },
    {
     "ename": "AttributeError",
     "evalue": "'function' object has no attribute 'get'",
     "output_type": "error",
     "traceback": [
      "\u001b[0;31m---------------------------------------------------------------------------\u001b[0m",
      "\u001b[0;31mAttributeError\u001b[0m                            Traceback (most recent call last)",
      "Input \u001b[0;32mIn [7]\u001b[0m, in \u001b[0;36m<cell line: 16>\u001b[0;34m()\u001b[0m\n\u001b[1;32m     11\u001b[0m     \u001b[38;5;28;01mreturn\u001b[39;00m url\n\u001b[1;32m     15\u001b[0m url \u001b[38;5;241m=\u001b[39m build_url(start_date\u001b[38;5;241m.\u001b[39mvalue, end_date\u001b[38;5;241m.\u001b[39mvalue, latitude\u001b[38;5;241m.\u001b[39mvalue, longitude\u001b[38;5;241m.\u001b[39mvalue)\n\u001b[0;32m---> 16\u001b[0m \u001b[43mfull_rvic_test\u001b[49m\u001b[43m(\u001b[49m\u001b[43murl\u001b[49m\u001b[43m,\u001b[49m\u001b[43m \u001b[49m\u001b[43mclient\u001b[49m\u001b[43m)\u001b[49m\n",
      "Input \u001b[0;32mIn [6]\u001b[0m, in \u001b[0;36mfull_rvic_test\u001b[0;34m(url, client, valid_input)\u001b[0m\n\u001b[1;32m     12\u001b[0m input_url \u001b[38;5;241m=\u001b[39m \u001b[38;5;124mf\u001b[39m\u001b[38;5;124m\"\u001b[39m\u001b[38;5;124m/osprey/input?\u001b[39m\u001b[38;5;132;01m{\u001b[39;00murl\u001b[38;5;132;01m}\u001b[39;00m\u001b[38;5;124m\"\u001b[39m\n\u001b[1;32m     14\u001b[0m \u001b[38;5;28mprint\u001b[39m(input_url)\n\u001b[0;32m---> 16\u001b[0m input_response \u001b[38;5;241m=\u001b[39m \u001b[43mclient\u001b[49m\u001b[38;5;241;43m.\u001b[39;49m\u001b[43mget\u001b[49m(url)\n\u001b[1;32m     17\u001b[0m \u001b[38;5;28;01mif\u001b[39;00m valid_input:\n\u001b[1;32m     18\u001b[0m     \u001b[38;5;28;01massert\u001b[39;00m input_response\u001b[38;5;241m.\u001b[39mstatus_code \u001b[38;5;241m==\u001b[39m \u001b[38;5;241m202\u001b[39m\n",
      "\u001b[0;31mAttributeError\u001b[0m: 'function' object has no attribute 'get'"
     ]
    }
   ],
   "source": [
    "def build_url(start, end, lat, lon):\n",
    "    \n",
    "    start = \"&run_startdate=\" + str(start)\n",
    "    end = \"&stop_date=\" + str(end)\n",
    "    lon = \"&lons=\" + lon\n",
    "    lat = \"&lats=\" + lat\n",
    "    url = \"case_id=sample\"+ start + end + lon + lat\n",
    "    \n",
    "    print(url)\n",
    "    \n",
    "    return url\n",
    "    \n",
    "    \n",
    "    \n",
    "url = build_url(start_date.value, end_date.value, latitude.value, longitude.value)\n",
    "full_rvic_test(url, client, valid_input=True)"
   ]
  },
  {
   "cell_type": "code",
   "execution_count": null,
   "metadata": {},
   "outputs": [],
   "source": []
  }
 ],
 "metadata": {
  "interpreter": {
   "hash": "916dbcbb3f70747c44a77c7bcd40155683ae19c65e1c03b4aa3499c5328201f1"
  },
  "kernelspec": {
   "display_name": "Python 3 (ipykernel)",
   "language": "python",
   "name": "python3"
  },
  "language_info": {
   "codemirror_mode": {
    "name": "ipython",
    "version": 3
   },
   "file_extension": ".py",
   "mimetype": "text/x-python",
   "name": "python",
   "nbconvert_exporter": "python",
   "pygments_lexer": "ipython3",
   "version": "3.8.10"
  }
 },
 "nbformat": 4,
 "nbformat_minor": 2
}
