{
 "cells": [
  {
   "cell_type": "code",
   "execution_count": 35,
   "metadata": {
    "scrolled": false
   },
   "outputs": [],
   "source": [
    "import shapely.geometry\n",
    "import time, requests\n",
    "import json\n",
    "\n",
    "from ipywidgets import *\n",
    "from ipyleaflet import *\n",
    "from osprey_flask_app import create_app"
   ]
  },
  {
   "cell_type": "code",
   "execution_count": 36,
   "metadata": {
    "scrolled": true
   },
   "outputs": [],
   "source": [
    "f = open(\"domains.json\")\n",
    "data = json.load(f)\n",
    "\n",
    "peace_coords = [\n",
    "    (coord[0], coord[1]) for coord in data[\"borders\"][\"peace\"][\"coordinates\"]\n",
    "]\n",
    "fraser_coords = [\n",
    "    (coord[0], coord[1]) for coord in data[\"borders\"][\"fraser\"][\"coordinates\"]\n",
    "]\n",
    "columbia_coords = [\n",
    "    (coord[0], coord[1]) for coord in data[\"borders\"][\"columbia\"][\"coordinates\"]\n",
    "]"
   ]
  },
  {
   "cell_type": "code",
   "execution_count": 37,
   "metadata": {
    "scrolled": true
   },
   "outputs": [],
   "source": [
    "def handle_click(**kwargs):\n",
    "    if kwargs.get(\"type\") == \"click\":\n",
    "        lat = round(kwargs.get(\"coordinates\")[0], 5)\n",
    "        lon = round(kwargs.get(\"coordinates\")[1], 5)\n",
    "\n",
    "        if in_polygon(lat, lon):\n",
    "            clear_previous_marker()\n",
    "\n",
    "            latitude.value = f\"{lat}\"\n",
    "            longitude.value = f\"{lon}\"\n",
    "\n",
    "            m.add_layer(Marker(location=kwargs.get(\"coordinates\"), name=\"Marker\"))\n",
    "\n",
    "\n",
    "def handle_run(arg):\n",
    "    if not point_list.options:\n",
    "        print(\"Please add at least one point before continuing\")\n",
    "        \n",
    "    elif not start_date.value and not end_date.value:\n",
    "        print(\"Please enter a start and end date before continuing\")\n",
    "      \n",
    "    else:\n",
    "        print(\"Continuing...\")\n",
    "\n",
    "def handle_add(arg):\n",
    "    if f\"{latitude.value}, {longitude.value}\" not in points:\n",
    "        points.append(f\"{latitude.value}, {longitude.value}\")\n",
    "        point_list.options = points\n",
    "    \n",
    "    \n",
    "def handle_remove(arg):\n",
    "    if point_list.value:\n",
    "        for point in point_list.value:\n",
    "            points.remove(point)\n",
    "            \n",
    "    point_list.options = points"
   ]
  },
  {
   "cell_type": "code",
   "execution_count": 38,
   "metadata": {
    "scrolled": true
   },
   "outputs": [],
   "source": [
    "def clear_previous_marker():\n",
    "    for i in range(1, len(m.layers)):\n",
    "        if m.layers[i].name == \"Marker\":\n",
    "            m.remove_layer(m.layers[i])\n",
    "\n",
    "\n",
    "def in_polygon(lat, lon):\n",
    "\n",
    "    point = shapely.geometry.Point(lat, lon)\n",
    "\n",
    "    peace_polygon = shapely.geometry.polygon.Polygon(p.locations)\n",
    "    fraser_polygon = shapely.geometry.polygon.Polygon(f.locations)\n",
    "    columbia_polygon = shapely.geometry.polygon.Polygon(c.locations)\n",
    "\n",
    "    if (\n",
    "        peace_polygon.contains(point)\n",
    "        or fraser_polygon.contains(point)\n",
    "        or columbia_polygon.contains(point)\n",
    "    ):\n",
    "        return True\n",
    "\n",
    "    return False\n",
    "\n",
    "\n",
    "def date_widget(descr):\n",
    "    return DatePicker(description=descr, disabled=False)"
   ]
  },
  {
   "cell_type": "code",
   "execution_count": 39,
   "metadata": {
    "scrolled": true
   },
   "outputs": [],
   "source": [
    "mapnik = basemap_to_tiles(basemaps.OpenStreetMap.Mapnik)\n",
    "mapnik.base = True\n",
    "mapnik.name = \"Default\"\n",
    "\n",
    "satellite = basemap_to_tiles(basemaps.Gaode.Satellite)\n",
    "satellite.base = True\n",
    "satellite.name = \"Satellite\"\n",
    "\n",
    "m = Map(\n",
    "    basemap=mapnik,\n",
    "    center=(50.5, -120),\n",
    "    zoom=5,\n",
    "    layout=Layout(height=\"700px\"),\n",
    "    layers=[satellite, mapnik],\n",
    ")\n",
    "\n",
    "p = Polygon(\n",
    "    locations=peace_coords,\n",
    "    color=\"blue\",\n",
    "    name=\"Peace\",\n",
    ")\n",
    "f = Polygon(\n",
    "    locations=fraser_coords,\n",
    "    color=\"red\",\n",
    "    name=\"Fraser\",\n",
    ")\n",
    "c = Polygon(\n",
    "    locations=columbia_coords,\n",
    "    color=\"green\",\n",
    "    name=\"Columbia\",\n",
    ")\n",
    "\n",
    "legend = LegendControl(\n",
    "    {\"Peace\": \"blue\", \"Fraser\": \"red\", \"Columbia\": \"green\"},\n",
    "    name=\"Watersheds\",\n",
    "    position=\"topright\",\n",
    ")\n",
    "\n",
    "latitude = Text(\n",
    "    placeholder=\"Enter the Latitude\", description=\"Latitude:\", disabled=False\n",
    ")\n",
    "\n",
    "longitude = Text(\n",
    "    placeholder=\"Enter the Longitude\", description=\"Longitude:\", disabled=False\n",
    ")\n",
    "\n",
    "layer_control = LayersControl()\n",
    "\n",
    "point_list = SelectMultiple(options=[], value=[], description=\"Points:\", disabled=False)\n",
    "\n",
    "points = []\n",
    "\n",
    "run = Button(\n",
    "    description=\"Run\",\n",
    "    button_style=\"success\",\n",
    "    disabled=False,\n",
    "    tooltip=\"Click 'Run' to start the Osprey Flask App.\",\n",
    ")\n",
    "run.on_click(handle_run)\n",
    "\n",
    "add_point = Button(\n",
    "    description=\"Add Point\",\n",
    "    button_style=\"primary\",\n",
    "    disabled=False,\n",
    "    tooltip=\"Click to add this point to the list.\",\n",
    ")\n",
    "add_point.on_click(handle_add)\n",
    "\n",
    "remove_point = Button(\n",
    "    description=\"Remove Point(s)\",\n",
    "    button_style=\"danger\",\n",
    "    disabled=False,\n",
    "    tooltip=\"Click to remove selected point(s) from the list.\",\n",
    ")\n",
    "remove_point.on_click(handle_remove)\n",
    "\n",
    "start_date = date_widget(\"Start Date:\")\n",
    "end_date = date_widget(\"End Date:\")"
   ]
  },
  {
   "cell_type": "code",
   "execution_count": 40,
   "metadata": {
    "scrolled": false
   },
   "outputs": [
    {
     "data": {
      "application/vnd.jupyter.widget-view+json": {
       "model_id": "38fe48743a5a4b7499b8dcb2027f3a35",
       "version_major": 2,
       "version_minor": 0
      },
      "text/plain": [
       "AppLayout(children=(VBox(children=(DatePicker(value=None, description='Start Date:'), DatePicker(value=None, d…"
      ]
     },
     "metadata": {},
     "output_type": "display_data"
    }
   ],
   "source": [
    "m.add_layer(p)\n",
    "m.add_layer(f)\n",
    "m.add_layer(c)\n",
    "\n",
    "m += layer_control\n",
    "\n",
    "m.on_interaction(handle_click)\n",
    "m.add_control(legend)\n",
    "\n",
    "\n",
    "control_box = VBox([start_date, end_date, latitude, longitude, add_point, point_list, remove_point, run])\n",
    "\n",
    "AppLayout(center = m, \n",
    "    right_sidebar = control_box, \n",
    "    justify_items = 'right', \n",
    "    align_items = 'center')"
   ]
  },
  {
   "cell_type": "code",
   "execution_count": 41,
   "metadata": {
    "scrolled": false
   },
   "outputs": [],
   "source": [
    "def client():\n",
    "    flask_app = create_app()\n",
    "\n",
    "    # Create a test client using the Flask application configured for testing\n",
    "    return flask_app.test_client()\n",
    "\n",
    "\n",
    "def full_rvic_test(url, client, valid_input=True):\n",
    "    # input_params = urlencode(url)\n",
    "    input_url = f\"/osprey/input?{url}\"\n",
    "\n",
    "    input_response = client.get(input_url)\n",
    "    if valid_input:\n",
    "        assert input_response.status_code == 202\n",
    "    else:\n",
    "        assert input_response.status_code == 400\n",
    "        return\n",
    "\n",
    "    status_url = input_response.data.split()[-1].decode(\"utf-8\")\n",
    "    status_response = client.get(status_url)\n",
    "\n",
    "    timeout = 1800  # Time to timeout in seconds\n",
    "    for i in range(timeout):\n",
    "        if status_response.data != b\"Process is still running.\":  # Process is completed\n",
    "            break\n",
    "        time.sleep(1)\n",
    "        status_response = client.get(status_url)\n",
    "    assert b\"Process completed.\" in status_response.data\n",
    "\n",
    "    output_url = status_response.data.split()[-1].decode(\"utf-8\")\n",
    "    output_response = client.get(output_url)\n",
    "    streamflow_path = output_response.headers.get(\"Location\")\n",
    "    assert requests.get(streamflow_path).status_code == 200"
   ]
  },
  {
   "cell_type": "code",
   "execution_count": 31,
   "metadata": {
    "scrolled": true
   },
   "outputs": [],
   "source": [
    "test_client = client()"
   ]
  },
  {
   "cell_type": "code",
   "execution_count": 42,
   "metadata": {
    "scrolled": true
   },
   "outputs": [
    {
     "name": "stdout",
     "output_type": "stream",
     "text": [
      "case_id=sample&run_startdate=None-00&stop_date=None&lons=&lats=\n"
     ]
    },
    {
     "ename": "AssertionError",
     "evalue": "",
     "output_type": "error",
     "traceback": [
      "\u001b[0;31m---------------------------------------------------------------------------\u001b[0m",
      "\u001b[0;31mAssertionError\u001b[0m                            Traceback (most recent call last)",
      "Input \u001b[0;32mIn [42]\u001b[0m, in \u001b[0;36m<cell line: 17>\u001b[0;34m()\u001b[0m\n\u001b[1;32m     13\u001b[0m     \u001b[38;5;28;01mreturn\u001b[39;00m url\n\u001b[1;32m     16\u001b[0m url \u001b[38;5;241m=\u001b[39m build_url(start_date\u001b[38;5;241m.\u001b[39mvalue, end_date\u001b[38;5;241m.\u001b[39mvalue, points)\n\u001b[0;32m---> 17\u001b[0m \u001b[43mfull_rvic_test\u001b[49m\u001b[43m(\u001b[49m\u001b[43murl\u001b[49m\u001b[43m,\u001b[49m\u001b[43m \u001b[49m\u001b[43mtest_client\u001b[49m\u001b[43m,\u001b[49m\u001b[43m \u001b[49m\u001b[43mvalid_input\u001b[49m\u001b[38;5;241;43m=\u001b[39;49m\u001b[38;5;28;43;01mTrue\u001b[39;49;00m\u001b[43m)\u001b[49m\n",
      "Input \u001b[0;32mIn [41]\u001b[0m, in \u001b[0;36mfull_rvic_test\u001b[0;34m(url, client, valid_input)\u001b[0m\n\u001b[1;32m     12\u001b[0m input_response \u001b[38;5;241m=\u001b[39m client\u001b[38;5;241m.\u001b[39mget(input_url)\n\u001b[1;32m     13\u001b[0m \u001b[38;5;28;01mif\u001b[39;00m valid_input:\n\u001b[0;32m---> 14\u001b[0m     \u001b[38;5;28;01massert\u001b[39;00m input_response\u001b[38;5;241m.\u001b[39mstatus_code \u001b[38;5;241m==\u001b[39m \u001b[38;5;241m202\u001b[39m\n\u001b[1;32m     15\u001b[0m \u001b[38;5;28;01melse\u001b[39;00m:\n\u001b[1;32m     16\u001b[0m     \u001b[38;5;28;01massert\u001b[39;00m input_response\u001b[38;5;241m.\u001b[39mstatus_code \u001b[38;5;241m==\u001b[39m \u001b[38;5;241m400\u001b[39m\n",
      "\u001b[0;31mAssertionError\u001b[0m: "
     ]
    }
   ],
   "source": [
    "def build_url(start, end, points):\n",
    "   \n",
    "    start_val = \"&run_startdate=\" + str(start) + \"-00\"\n",
    "    end_val = \"&stop_date=\" + str(end)\n",
    "    \n",
    "    lon_val = \"&lons=\" + \",\".join([point.split(\", \")[1] for point in points])\n",
    "    lat_val = \"&lats=\" + \",\".join([point.split(\", \")[0] for point in points])\n",
    "\n",
    "    url = \"case_id=sample\" + start_val + end_val + lon_val + lat_val\n",
    "\n",
    "    print(url)\n",
    "\n",
    "    return url\n",
    "\n",
    "\n",
    "url = build_url(start_date.value, end_date.value, points)\n",
    "full_rvic_test(url, test_client, valid_input=True)"
   ]
  },
  {
   "cell_type": "code",
   "execution_count": null,
   "metadata": {},
   "outputs": [],
   "source": []
  }
 ],
 "metadata": {
  "interpreter": {
   "hash": "916dbcbb3f70747c44a77c7bcd40155683ae19c65e1c03b4aa3499c5328201f1"
  },
  "kernelspec": {
   "display_name": "Python 3 (ipykernel)",
   "language": "python",
   "name": "python3"
  },
  "language_info": {
   "codemirror_mode": {
    "name": "ipython",
    "version": 3
   },
   "file_extension": ".py",
   "mimetype": "text/x-python",
   "name": "python",
   "nbconvert_exporter": "python",
   "pygments_lexer": "ipython3",
   "version": "3.8.10"
  }
 },
 "nbformat": 4,
 "nbformat_minor": 4
}
