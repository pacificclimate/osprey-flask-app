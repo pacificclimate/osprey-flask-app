{
 "cells": [
  {
   "cell_type": "code",
   "execution_count": 29,
   "metadata": {},
   "outputs": [],
   "source": [
    "import shapely.geometry\n",
    "import time, requests\n",
    "\n",
    "from IPython.display import display\n",
    "from ipywidgets import *\n",
    "from ipyleaflet import *\n",
    "from osprey_flask_app import create_app\n"
   ]
  },
  {
   "cell_type": "code",
   "execution_count": 30,
   "metadata": {},
   "outputs": [],
   "source": [
    "def handle_click(**kwargs):\n",
    "    if kwargs.get(\"type\") == \"click\":\n",
    "        lat = round(kwargs.get(\"coordinates\")[0], 5)\n",
    "        lon = round(kwargs.get(\"coordinates\")[1], 5)\n",
    "\n",
    "        if in_polygon(lat, lon):\n",
    "            clear_previous_marker()\n",
    "\n",
    "            points.append(f\"{lat}, {lon}\")\n",
    "\n",
    "            point_list.options = points\n",
    "\n",
    "            latitude.value = f\"{lat}\"\n",
    "            longitude.value = f\"{lon}\"\n",
    "\n",
    "            m.add_layer(Marker(location=kwargs.get(\"coordinates\"), name=\"Marker\"))\n",
    "\n",
    "\n",
    "def handle_button(arg):\n",
    "    print(\"The button has been clicked\")"
   ]
  },
  {
   "cell_type": "code",
   "execution_count": 31,
   "metadata": {},
   "outputs": [],
   "source": [
    "def clear_previous_marker():\n",
    "    for i in range(1, len(m.layers)):\n",
    "        if m.layers[i].name == \"Marker\":\n",
    "            m.remove_layer(m.layers[i])\n",
    "\n",
    "\n",
    "def in_polygon(lat, lon):\n",
    "\n",
    "    point = shapely.geometry.Point(lat, lon)\n",
    "\n",
    "    peace_polygon = shapely.geometry.polygon.Polygon(p.locations)\n",
    "    fraser_polygon = shapely.geometry.polygon.Polygon(f.locations)\n",
    "    columbia_polygon = shapely.geometry.polygon.Polygon(c.locations)\n",
    "\n",
    "    if (\n",
    "        peace_polygon.contains(point)\n",
    "        or fraser_polygon.contains(point)\n",
    "        or columbia_polygon.contains(point)\n",
    "    ):\n",
    "        return True\n",
    "\n",
    "    return False\n",
    "\n",
    "def date_widget(descr):\n",
    "    return DatePicker(description=descr, disabled=False)"
   ]
  },
  {
   "cell_type": "code",
   "execution_count": 32,
   "metadata": {},
   "outputs": [],
   "source": [
    "mapnik = basemap_to_tiles(basemaps.OpenStreetMap.Mapnik)\n",
    "mapnik.base = True\n",
    "mapnik.name = \"Default\"\n",
    "\n",
    "satellite = basemap_to_tiles(basemaps.Gaode.Satellite)\n",
    "satellite.base = True\n",
    "satellite.name = \"Satellite\"\n",
    "\n",
    "m = Map(\n",
    "    basemap=mapnik,\n",
    "    center=(50.5, -120),\n",
    "    zoom=5,\n",
    "    layout=Layout(width=\"50%\", height=\"800px\"),\n",
    "    layers=[satellite, mapnik],\n",
    ")\n",
    "\n",
    "p = Polygon(\n",
    "    locations=[\n",
    "        (53.0312, -127.8437),\n",
    "        (58.1562, -127.8437),\n",
    "        (58.1562, -115.9062),\n",
    "        (53.0312, -115.9062),\n",
    "    ],\n",
    "    color=\"blue\",\n",
    "    name=\"Peace\",\n",
    ")\n",
    "f = Polygon(\n",
    "    locations=[\n",
    "        (48.5312, -128.4687),\n",
    "        (56.4687, -128.4687),\n",
    "        (56.4687, -117.5312),\n",
    "        (48.5312, -117.5312),\n",
    "    ],\n",
    "    color=\"red\",\n",
    "    name=\"Fraser\",\n",
    ")\n",
    "c = Polygon(\n",
    "    locations=[\n",
    "        (41.0312, -124.9687),\n",
    "        (53.1562, -124.9687),\n",
    "        (53.1562, -109.7187),\n",
    "        (41.0312, -109.7187),\n",
    "    ],\n",
    "    color=\"green\",\n",
    "    name=\"Columbia\",\n",
    ")\n",
    "\n",
    "legend = LegendControl(\n",
    "    {\"Peace\": \"blue\", \"Fraser\": \"red\", \"Columbia\": \"green\"},\n",
    "    name=\"Watersheds\",\n",
    "    position=\"topright\",\n",
    ")\n",
    "\n",
    "latitude = Text(\n",
    "    placeholder=\"Enter the Latitude\", description=\"Latitude:\", disabled=False\n",
    ")\n",
    "\n",
    "longitude = Text(\n",
    "    placeholder=\"Enter the Longitude\", description=\"Longitude:\", disabled=False\n",
    ")\n",
    "\n",
    "layer_control = LayersControl()\n",
    "\n",
    "point_list= SelectMultiple(options=[],\n",
    "            value=[],\n",
    "            description=\"Points:\", \n",
    "            disabled = False)\n",
    "\n",
    "points = []\n",
    "\n",
    "button = Button(\n",
    "    description=\"Run\",\n",
    "    button_style=\"success\",\n",
    "    disabled=False,\n",
    "    tooltip=\"Click 'Run' to start the Osprey Flask App.\"\n",
    ")\n",
    "button.on_click(handle_button)\n",
    "\n",
    "start_date = date_widget(\"Start Date:\")\n",
    "end_date = date_widget(\"End Date:\")"
   ]
  },
  {
   "cell_type": "code",
   "execution_count": 33,
   "metadata": {
    "scrolled": true
   },
   "outputs": [
    {
     "data": {
      "application/vnd.jupyter.widget-view+json": {
       "model_id": "e5a1aae03c8e4128bc2d9a5c5ba8a1e8",
       "version_major": 2,
       "version_minor": 0
      },
      "text/plain": [
       "Map(center=[50.5, -120], controls=(ZoomControl(options=['position', 'zoom_in_text', 'zoom_in_title', 'zoom_out…"
      ]
     },
     "metadata": {},
     "output_type": "display_data"
    },
    {
     "data": {
      "application/vnd.jupyter.widget-view+json": {
       "model_id": "f1513174263444a9a5eab3def4a68bde",
       "version_major": 2,
       "version_minor": 0
      },
      "text/plain": [
       "DatePicker(value=None, description='Start Date:')"
      ]
     },
     "metadata": {},
     "output_type": "display_data"
    },
    {
     "data": {
      "application/vnd.jupyter.widget-view+json": {
       "model_id": "534a743a22044f17a6701341a53d6258",
       "version_major": 2,
       "version_minor": 0
      },
      "text/plain": [
       "DatePicker(value=None, description='End Date:')"
      ]
     },
     "metadata": {},
     "output_type": "display_data"
    },
    {
     "data": {
      "application/vnd.jupyter.widget-view+json": {
       "model_id": "68f8ee77869d42eb8fc1187fa3891c83",
       "version_major": 2,
       "version_minor": 0
      },
      "text/plain": [
       "Text(value='', description='Latitude:', placeholder='Enter the Latitude')"
      ]
     },
     "metadata": {},
     "output_type": "display_data"
    },
    {
     "data": {
      "application/vnd.jupyter.widget-view+json": {
       "model_id": "6f53224cdf804d8d95b4da271ade1612",
       "version_major": 2,
       "version_minor": 0
      },
      "text/plain": [
       "Text(value='', description='Longitude:', placeholder='Enter the Longitude')"
      ]
     },
     "metadata": {},
     "output_type": "display_data"
    },
    {
     "data": {
      "application/vnd.jupyter.widget-view+json": {
       "model_id": "fe835db2097941a1996dfd8349592942",
       "version_major": 2,
       "version_minor": 0
      },
      "text/plain": [
       "SelectMultiple(description='Points:', options=(), value=())"
      ]
     },
     "metadata": {},
     "output_type": "display_data"
    },
    {
     "data": {
      "application/vnd.jupyter.widget-view+json": {
       "model_id": "639da9bdb7624ccbbcba72b592f7b7c4",
       "version_major": 2,
       "version_minor": 0
      },
      "text/plain": [
       "Button(button_style='success', description='Run', style=ButtonStyle(), tooltip=\"Click 'Run' to start the Ospre…"
      ]
     },
     "metadata": {},
     "output_type": "display_data"
    }
   ],
   "source": [
    "m.add_layer(p)\n",
    "m.add_layer(f)\n",
    "m.add_layer(c)\n",
    "\n",
    "m += layer_control\n",
    "\n",
    "m.on_interaction(handle_click)\n",
    "m.add_control(legend)\n",
    "\n",
    "display(m)\n",
    "display(start_date, end_date)\n",
    "display(latitude, longitude)\n",
    "display(point_list, button)"
   ]
  },
  {
   "cell_type": "code",
   "execution_count": 34,
   "metadata": {},
   "outputs": [],
   "source": [
    "def client():\n",
    "    flask_app = create_app()\n",
    "\n",
    "    # Create a test client using the Flask application configured for testing\n",
    "    return flask_app.test_client()\n",
    "            \n",
    "def full_rvic_test(url, client, valid_input=True):\n",
    "    #input_params = urlencode(url)\n",
    "    input_url = f\"/osprey/input?{url}\"\n",
    "\n",
    "    input_response = client.get(input_url)\n",
    "    if valid_input:\n",
    "        assert input_response.status_code == 202\n",
    "    else:\n",
    "        assert input_response.status_code == 400\n",
    "        return\n",
    "\n",
    "    status_url = input_response.data.split()[-1].decode(\"utf-8\")\n",
    "    status_response = client.get(status_url)\n",
    "\n",
    "    timeout = 1800  # Time to timeout in seconds\n",
    "    for i in range(timeout):\n",
    "        if status_response.data != b\"Process is still running.\":  # Process is completed\n",
    "            break\n",
    "        time.sleep(1)\n",
    "        status_response = client.get(status_url)\n",
    "    assert b\"Process completed.\" in status_response.data\n",
    "\n",
    "    output_url = status_response.data.split()[-1].decode(\"utf-8\")\n",
    "    output_response = client.get(output_url)\n",
    "    streamflow_path = output_response.headers.get(\"Location\")\n",
    "    assert requests.get(streamflow_path).status_code == 200"
   ]
  },
  {
   "cell_type": "code",
   "execution_count": 37,
   "metadata": {},
   "outputs": [
    {
     "ename": "ModuleNotFoundError",
     "evalue": "No module named 'birdy'",
     "output_type": "error",
     "traceback": [
      "\u001b[0;31m---------------------------------------------------------------------------\u001b[0m",
      "\u001b[0;31mModuleNotFoundError\u001b[0m                       Traceback (most recent call last)",
      "\u001b[1;32m/home/mariewhibley/Desktop/PCIC/osprey-flask-app/map.ipynb Cell 7'\u001b[0m in \u001b[0;36m<cell line: 1>\u001b[0;34m()\u001b[0m\n\u001b[0;32m----> <a href='vscode-notebook-cell:/home/mariewhibley/Desktop/PCIC/osprey-flask-app/map.ipynb#ch0000009?line=0'>1</a>\u001b[0m test_client \u001b[39m=\u001b[39m client()\n",
      "\u001b[1;32m/home/mariewhibley/Desktop/PCIC/osprey-flask-app/map.ipynb Cell 6'\u001b[0m in \u001b[0;36mclient\u001b[0;34m()\u001b[0m\n\u001b[1;32m      <a href='vscode-notebook-cell:/home/mariewhibley/Desktop/PCIC/osprey-flask-app/map.ipynb#ch0000005?line=0'>1</a>\u001b[0m \u001b[39mdef\u001b[39;00m \u001b[39mclient\u001b[39m():\n\u001b[0;32m----> <a href='vscode-notebook-cell:/home/mariewhibley/Desktop/PCIC/osprey-flask-app/map.ipynb#ch0000005?line=1'>2</a>\u001b[0m     flask_app \u001b[39m=\u001b[39m create_app()\n\u001b[1;32m      <a href='vscode-notebook-cell:/home/mariewhibley/Desktop/PCIC/osprey-flask-app/map.ipynb#ch0000005?line=3'>4</a>\u001b[0m     \u001b[39m# Create a test client using the Flask application configured for testing\u001b[39;00m\n\u001b[1;32m      <a href='vscode-notebook-cell:/home/mariewhibley/Desktop/PCIC/osprey-flask-app/map.ipynb#ch0000005?line=4'>5</a>\u001b[0m     \u001b[39mreturn\u001b[39;00m flask_app\u001b[39m.\u001b[39mtest_client()\n",
      "File \u001b[0;32m~/Desktop/PCIC/osprey-flask-app/osprey_flask_app/__init__.py:10\u001b[0m, in \u001b[0;36mcreate_app\u001b[0;34m(config)\u001b[0m\n\u001b[1;32m      <a href='file:///home/mariewhibley/Desktop/PCIC/osprey-flask-app/osprey_flask_app/__init__.py?line=6'>7</a>\u001b[0m app\u001b[39m.\u001b[39mconfig\u001b[39m.\u001b[39mfrom_object(config)\n\u001b[1;32m      <a href='file:///home/mariewhibley/Desktop/PCIC/osprey-flask-app/osprey_flask_app/__init__.py?line=8'>9</a>\u001b[0m \u001b[39mwith\u001b[39;00m app\u001b[39m.\u001b[39mapp_context():\n\u001b[0;32m---> <a href='file:///home/mariewhibley/Desktop/PCIC/osprey-flask-app/osprey_flask_app/__init__.py?line=9'>10</a>\u001b[0m     \u001b[39mfrom\u001b[39;00m \u001b[39m.\u001b[39;00m\u001b[39mroutes\u001b[39;00m \u001b[39mimport\u001b[39;00m osprey\n\u001b[1;32m     <a href='file:///home/mariewhibley/Desktop/PCIC/osprey-flask-app/osprey_flask_app/__init__.py?line=11'>12</a>\u001b[0m     app\u001b[39m.\u001b[39mregister_blueprint(osprey)\n\u001b[1;32m     <a href='file:///home/mariewhibley/Desktop/PCIC/osprey-flask-app/osprey_flask_app/__init__.py?line=13'>14</a>\u001b[0m     \u001b[39mreturn\u001b[39;00m app\n",
      "File \u001b[0;32m~/Desktop/PCIC/osprey-flask-app/osprey_flask_app/routes.py:4\u001b[0m, in \u001b[0;36m<module>\u001b[0;34m\u001b[0m\n\u001b[1;32m      <a href='file:///home/mariewhibley/Desktop/PCIC/osprey-flask-app/osprey_flask_app/routes.py?line=0'>1</a>\u001b[0m \u001b[39m\"\"\"Defines all routes available to Flask app\"\"\"\u001b[39;00m\n\u001b[1;32m      <a href='file:///home/mariewhibley/Desktop/PCIC/osprey-flask-app/osprey_flask_app/routes.py?line=2'>3</a>\u001b[0m \u001b[39mfrom\u001b[39;00m \u001b[39mflask\u001b[39;00m \u001b[39mimport\u001b[39;00m Blueprint, request, Response, url_for\n\u001b[0;32m----> <a href='file:///home/mariewhibley/Desktop/PCIC/osprey-flask-app/osprey_flask_app/routes.py?line=3'>4</a>\u001b[0m \u001b[39mfrom\u001b[39;00m \u001b[39m.\u001b[39;00m\u001b[39mrun_rvic\u001b[39;00m \u001b[39mimport\u001b[39;00m run_full_rvic\n\u001b[1;32m      <a href='file:///home/mariewhibley/Desktop/PCIC/osprey-flask-app/osprey_flask_app/routes.py?line=4'>5</a>\u001b[0m \u001b[39mfrom\u001b[39;00m \u001b[39m.\u001b[39;00m\u001b[39mutils\u001b[39;00m \u001b[39mimport\u001b[39;00m create_full_arg_dict, inputs_are_valid\n\u001b[1;32m      <a href='file:///home/mariewhibley/Desktop/PCIC/osprey-flask-app/osprey_flask_app/routes.py?line=6'>7</a>\u001b[0m \u001b[39mimport\u001b[39;00m \u001b[39mos\u001b[39;00m\n",
      "File \u001b[0;32m~/Desktop/PCIC/osprey-flask-app/osprey_flask_app/run_rvic.py:1\u001b[0m, in \u001b[0;36m<module>\u001b[0;34m\u001b[0m\n\u001b[0;32m----> <a href='file:///home/mariewhibley/Desktop/PCIC/osprey-flask-app/osprey_flask_app/run_rvic.py?line=0'>1</a>\u001b[0m \u001b[39mfrom\u001b[39;00m \u001b[39mbirdy\u001b[39;00m \u001b[39mimport\u001b[39;00m WPSClient\n\u001b[1;32m      <a href='file:///home/mariewhibley/Desktop/PCIC/osprey-flask-app/osprey_flask_app/run_rvic.py?line=1'>2</a>\u001b[0m \u001b[39mfrom\u001b[39;00m \u001b[39mwps_tools\u001b[39;00m\u001b[39m.\u001b[39;00m\u001b[39mtesting\u001b[39;00m \u001b[39mimport\u001b[39;00m get_target_url\n\u001b[1;32m      <a href='file:///home/mariewhibley/Desktop/PCIC/osprey-flask-app/osprey_flask_app/run_rvic.py?line=4'>5</a>\u001b[0m \u001b[39mdef\u001b[39;00m \u001b[39mrun_full_rvic\u001b[39m(arg_dict, url\u001b[39m=\u001b[39mget_target_url(\u001b[39m\"\u001b[39m\u001b[39mosprey\u001b[39m\u001b[39m\"\u001b[39m)):\n",
      "\u001b[0;31mModuleNotFoundError\u001b[0m: No module named 'birdy'"
     ]
    }
   ],
   "source": [
    "test_client = client()"
   ]
  },
  {
   "cell_type": "code",
   "execution_count": 38,
   "metadata": {},
   "outputs": [
    {
     "name": "stdout",
     "output_type": "stream",
     "text": [
      "case_id=sample&run_startdate=2021-07-16&stop_date=2022-07-08&lons=-121.68457&lats=48.77791\n"
     ]
    },
    {
     "ename": "NameError",
     "evalue": "name 'test_client' is not defined",
     "output_type": "error",
     "traceback": [
      "\u001b[0;31m---------------------------------------------------------------------------\u001b[0m",
      "\u001b[0;31mNameError\u001b[0m                                 Traceback (most recent call last)",
      "\u001b[1;32m/home/mariewhibley/Desktop/PCIC/osprey-flask-app/map.ipynb Cell 8'\u001b[0m in \u001b[0;36m<cell line: 16>\u001b[0;34m()\u001b[0m\n\u001b[1;32m     <a href='vscode-notebook-cell:/home/mariewhibley/Desktop/PCIC/osprey-flask-app/map.ipynb#ch0000006?line=10'>11</a>\u001b[0m     \u001b[39mreturn\u001b[39;00m url\n\u001b[1;32m     <a href='vscode-notebook-cell:/home/mariewhibley/Desktop/PCIC/osprey-flask-app/map.ipynb#ch0000006?line=14'>15</a>\u001b[0m url \u001b[39m=\u001b[39m build_url(start_date\u001b[39m.\u001b[39mvalue, end_date\u001b[39m.\u001b[39mvalue, latitude\u001b[39m.\u001b[39mvalue, longitude\u001b[39m.\u001b[39mvalue)\n\u001b[0;32m---> <a href='vscode-notebook-cell:/home/mariewhibley/Desktop/PCIC/osprey-flask-app/map.ipynb#ch0000006?line=15'>16</a>\u001b[0m full_rvic_test(url, test_client, valid_input\u001b[39m=\u001b[39m\u001b[39mTrue\u001b[39;00m)\n",
      "\u001b[0;31mNameError\u001b[0m: name 'test_client' is not defined"
     ]
    }
   ],
   "source": [
    "def build_url(start, end, lat, lon):\n",
    "    \n",
    "    start = \"&run_startdate=\" + str(start) + \"-00\"\n",
    "    end = \"&stop_date=\" + str(end)\n",
    "    lon = \"&lons=\" + lon\n",
    "    lat = \"&lats=\" + lat\n",
    "    url = \"case_id=sample\"+ start + end + lon + lat\n",
    "    \n",
    "    print(url)\n",
    "    \n",
    "    return url\n",
    "    \n",
    "    \n",
    "    \n",
    "url = build_url(start_date.value, end_date.value, latitude.value, longitude.value)\n",
    "full_rvic_test(url, test_client, valid_input=True)"
   ]
  },
  {
   "cell_type": "code",
   "execution_count": null,
   "metadata": {},
   "outputs": [],
   "source": []
  },
  {
   "cell_type": "code",
   "execution_count": null,
   "metadata": {},
   "outputs": [],
   "source": []
  }
 ],
 "metadata": {
  "interpreter": {
   "hash": "916dbcbb3f70747c44a77c7bcd40155683ae19c65e1c03b4aa3499c5328201f1"
  },
  "kernelspec": {
   "display_name": "Python 3 (ipykernel)",
   "language": "python",
   "name": "python3"
  },
  "language_info": {
   "codemirror_mode": {
    "name": "ipython",
    "version": 3
   },
   "file_extension": ".py",
   "mimetype": "text/x-python",
   "name": "python",
   "nbconvert_exporter": "python",
   "pygments_lexer": "ipython3",
   "version": "3.8.10"
  }
 },
 "nbformat": 4,
 "nbformat_minor": 2
}
