{
 "cells": [
  {
   "cell_type": "code",
   "execution_count": 1,
   "id": "75e5a554-0023-4c53-bba7-83281a52c462",
   "metadata": {},
   "outputs": [],
   "source": [
    "import os\n",
    "import requests\n",
    "import time\n",
    "from selenium import webdriver\n",
    "from selenium.webdriver.common.by import By\n",
    "from selenium.common.exceptions import NoSuchElementException\n",
    "from IPython import display\n",
    "from IPython.display import HTML\n",
    "from tempfile import NamedTemporaryFile\n",
    "from netCDF4 import Dataset"
   ]
  },
  {
   "cell_type": "code",
   "execution_count": 2,
   "id": "a057e08e-a38b-4413-977d-3f496e0cef75",
   "metadata": {},
   "outputs": [],
   "source": [
    "port = os.environ.get(\"APP_PORT\", 5000)\n",
    "base_url = f\"http://localhost:{port}\""
   ]
  },
  {
   "cell_type": "code",
   "execution_count": 3,
   "id": "a01b9038-aa69-461c-8238-0f5d2513eb92",
   "metadata": {},
   "outputs": [
    {
     "data": {
      "text/plain": [
       "'http://localhost:5002/osprey/input?case_id=sample&run_startdate=2015-12-01-00&stop_date=2015-12-31&lons=-116.46875&lats=50.90625&names=BCHSP'"
      ]
     },
     "execution_count": 3,
     "metadata": {},
     "output_type": "execute_result"
    }
   ],
   "source": [
    "input_url = base_url + f\"/osprey/input?case_id=sample&run_startdate=2015-12-01-00&stop_date=2015-12-31&lons=-116.46875&lats=50.90625&names=BCHSP\"\n",
    "input_url"
   ]
  },
  {
   "cell_type": "code",
   "execution_count": 4,
   "id": "e41ba119-3386-463a-b68b-22a4864ff07a",
   "metadata": {},
   "outputs": [
    {
     "data": {
      "text/plain": [
       "'http://localhost:5002/osprey/status/f1e9c34f-1c2c-41a3-ab2c-a35a00a7d163'"
      ]
     },
     "execution_count": 4,
     "metadata": {},
     "output_type": "execute_result"
    }
   ],
   "source": [
    "input_response = requests.get(input_url)\n",
    "status_url = base_url + input_response.content.split()[-1].decode(\"utf-8\")\n",
    "status_url"
   ]
  },
  {
   "cell_type": "code",
   "execution_count": 5,
   "id": "c16ebaac-c2a8-47f4-bfaf-164bf88f973b",
   "metadata": {},
   "outputs": [],
   "source": [
    "options = webdriver.FirefoxOptions()\n",
    "options.add_argument(\"--headless\")\n",
    "driver = webdriver.Firefox(options=options)"
   ]
  },
  {
   "cell_type": "code",
   "execution_count": 6,
   "id": "f84d94f8-648c-45d0-a43f-c7c8694ffa10",
   "metadata": {},
   "outputs": [],
   "source": [
    "driver.get(status_url)"
   ]
  },
  {
   "cell_type": "code",
   "execution_count": 7,
   "id": "2153a34a-a209-484a-9c64-1ad08644a443",
   "metadata": {},
   "outputs": [
    {
     "data": {
      "text/html": [
       "<html><head></head><body>Process completed. Get output: /osprey/output/f1e9c34f-1c2c-41a3-ab2c-a35a00a7d163</body></html>"
      ],
      "text/plain": [
       "<IPython.core.display.HTML object>"
      ]
     },
     "metadata": {},
     "output_type": "display_data"
    }
   ],
   "source": [
    "while True:\n",
    "    try:\n",
    "        driver.find_element(By.CLASS_NAME, \"progress-bar-header\").text\n",
    "        display.display(HTML(driver.page_source))\n",
    "        display.clear_output(wait=True)\n",
    "        time.sleep(0.5)\n",
    "    except NoSuchElementException:\n",
    "        break\n",
    "display.display(HTML(driver.page_source))"
   ]
  },
  {
   "cell_type": "code",
   "execution_count": 8,
   "id": "df951430-dee9-444a-a69f-1b2f0361d509",
   "metadata": {},
   "outputs": [
    {
     "data": {
      "text/plain": [
       "'http://localhost:5002/osprey/output/f1e9c34f-1c2c-41a3-ab2c-a35a00a7d163'"
      ]
     },
     "execution_count": 8,
     "metadata": {},
     "output_type": "execute_result"
    }
   ],
   "source": [
    "completed_text = driver.find_element(By.TAG_NAME, \"body\").text\n",
    "output_url = base_url + completed_text.split()[-1]\n",
    "output_url"
   ]
  },
  {
   "cell_type": "code",
   "execution_count": 9,
   "id": "9bdcfc9a-f1c1-4ca2-bc2e-aaa3542e53c8",
   "metadata": {},
   "outputs": [],
   "source": [
    "output_response = requests.get(output_url)\n",
    "with NamedTemporaryFile(dir = os.environ.get(\"TMPDIR\", \"/tmp\")) as fp:\n",
    "    fp.write(output_response.content)\n",
    "    data = Dataset(fp.name)"
   ]
  },
  {
   "cell_type": "code",
   "execution_count": 10,
   "id": "a8883e67-af94-4935-8a18-2761f7b66fb8",
   "metadata": {},
   "outputs": [
    {
     "data": {
      "text/plain": [
       "<class 'netCDF4._netCDF4.Dataset'>\n",
       "root group (NETCDF4 data model, file format HDF5):\n",
       "    title: RVIC history file\n",
       "    comment: Output from the RVIC Streamflow Routing Model.\n",
       "    Conventions: CF-1.6\n",
       "    history: Created: Wed Mar  1 15:29:23 2023\n",
       "    source: /home/eyvorchuk/code/osprey/osprey-venv/bin/osprey\n",
       "    institution: University of Washington\n",
       "    hostname: pcic-2024\n",
       "    username: eyvorchuk\n",
       "    casename: sample\n",
       "    casestr: historical\n",
       "    references: Based on the initial model of Lohmann, et al., 1996, Tellus, 48(A), 708-721\n",
       "    version: 1.1.6\n",
       "    RvicPourPointsFile: tmplw_9cfha.csv\n",
       "    RvicUHFile: tmp_hvn6w7x.csv\n",
       "    RvicFdrFile: pcic.pnw.rvic.input_20170927.nc\n",
       "    RvicDomainFile: domain.pnw.pcic.20170927.nc\n",
       "    featureType: timeSeries\n",
       "    dimensions(sizes): time(31), nv(2), outlets(1), nc_chars(256)\n",
       "    variables(dimensions): float32 time(time), float32 time_bnds(time, nv), float32 lon(outlets), float32 lat(outlets), int32 outlet_x_ind(outlets), int32 outlet_y_ind(outlets), int32 outlet_decomp_ind(outlets), |S1 outlet_name(outlets, nc_chars), float32 streamflow(time, outlets)\n",
       "    groups: "
      ]
     },
     "execution_count": 10,
     "metadata": {},
     "output_type": "execute_result"
    }
   ],
   "source": [
    "data"
   ]
  },
  {
   "cell_type": "code",
   "execution_count": 11,
   "id": "54fd7252-264c-47f6-9635-06240c5f3a5b",
   "metadata": {},
   "outputs": [],
   "source": [
    "driver.quit()"
   ]
  },
  {
   "cell_type": "code",
   "execution_count": null,
   "id": "22054eb1-a966-43bc-af5c-c7bde150afa3",
   "metadata": {},
   "outputs": [],
   "source": []
  }
 ],
 "metadata": {
  "kernelspec": {
   "display_name": "Python 3 (ipykernel)",
   "language": "python",
   "name": "python3"
  },
  "language_info": {
   "codemirror_mode": {
    "name": "ipython",
    "version": 3
   },
   "file_extension": ".py",
   "mimetype": "text/x-python",
   "name": "python",
   "nbconvert_exporter": "python",
   "pygments_lexer": "ipython3",
   "version": "3.9.16"
  }
 },
 "nbformat": 4,
 "nbformat_minor": 5
}
